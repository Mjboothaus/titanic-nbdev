{
 "cells": [
  {
   "cell_type": "code",
   "execution_count": null,
   "metadata": {
    "hide_input": true
   },
   "outputs": [],
   "source": [
    "from nbdev import *"
   ]
  },
  {
   "cell_type": "code",
   "execution_count": null,
   "metadata": {},
   "outputs": [],
   "source": [
    "%nbdev_default_export app"
   ]
  },
  {
   "cell_type": "markdown",
   "metadata": {},
   "source": [
    "# Titanic Streamlit App\n",
    "\n",
    "> This is the front-end application built in Streamlit (which I believe is not compatible with Jupyter notebooks).\n",
    "> However `nbdev` converts this to a straight .py script by default - which should be possible to `streamlit run`."
   ]
  },
  {
   "cell_type": "code",
   "execution_count": null,
   "metadata": {},
   "outputs": [],
   "source": [
    "%nbdev_hide\n",
    "from nbdev.showdoc import *\n",
    "from fastcore.test import *"
   ]
  },
  {
   "cell_type": "code",
   "execution_count": null,
   "metadata": {},
   "outputs": [],
   "source": [
    "%nbdev_export\n",
    "\n",
    "#def my_core_helper_function():\n",
    "#    return True\n",
    "\n",
    "# my_core_helper_function()\n",
    "\n",
    "# Example test [PASSES]\n",
    "\n",
    "# test_eq(True, my_core_helper_function())"
   ]
  },
  {
   "cell_type": "code",
   "execution_count": null,
   "metadata": {},
   "outputs": [],
   "source": [
    "%nbdev_export\n",
    "import numpy as np\n",
    "import pandas as pd\n",
    "import datetime as dt\n",
    "import streamlit as st\n",
    "from streamlit_folium import folium_static\n",
    "import folium\n",
    "\n",
    "from pandas_profiling import ProfileReport\n",
    "from streamlit_pandas_profiling import st_profile_report"
   ]
  },
  {
   "cell_type": "code",
   "execution_count": null,
   "metadata": {},
   "outputs": [],
   "source": [
    "%nbdev_export\n",
    "TITANIC_DATA_FILE = 'http://biostat.mc.vanderbilt.edu/wiki/pub/Main/DataSets/titanic3.csv'\n",
    "AUTHOR_INFO = 'AUTHOR: [Michael J. Booth](https://about.me/mjboothaus)'\n",
    "APP_NAME = 'Titanic Data Explorer - PP'"
   ]
  },
  {
   "cell_type": "code",
   "execution_count": null,
   "metadata": {},
   "outputs": [],
   "source": [
    "%nbdev_export\n",
    "class SideBar:\n",
    "    datasource = 'DATA: [Titanic Dataset (known errors)](http://biostat.mc.vanderbilt.edu/wiki/pub/Main/DataSets/titanic3info.txt)'\n",
    "    datasize = 0   # look to calculate this (in MB?) - TEST: Comment change\n",
    "    author = AUTHOR_INFO\n",
    "    title = 'Data details...'\n",
    "    data_local = False\n",
    "    start_date = dt.date.today()\n",
    "    end_date = dt.date.today()\n",
    "    selected_data = None\n",
    "    calc_corr = False\n",
    "\n",
    "\n",
    "def create_sidebar():\n",
    "    sb = SideBar()\n",
    "    st.sidebar.markdown(sb.author)\n",
    "    st.sidebar.markdown(sb.datasource)\n",
    "    st.sidebar.info(sb.title)\n",
    "    st.sidebar.markdown('Datasize: ' + str(sb.datasize))\n",
    "    sb.calc_corr = st.sidebar.checkbox('Calculate correlations?', value=False)\n",
    "    return sb\n",
    "\n",
    "def create_mainscreen(df, pr, APP_NAME):\n",
    "    st.title(APP_NAME)\n",
    "\n",
    "    # Folium mapping example: center on Sydney Opera House\n",
    "    m = folium.Map(location=[-33.85719805, 151.21512338473752], zoom_start=15)\n",
    "\n",
    "    # add marker for Opera House\n",
    "    tooltip = \"Sydney Opera House\"\n",
    "    folium.Marker(\n",
    "        [-33.85719805, 151.21512338473752], popup=\"Sydney Opera House\", tooltip=tooltip\n",
    "    ).add_to(m)\n",
    "\n",
    "    # call to render Folium map in Streamlit\n",
    "    folium_static(m)\n",
    "    \n",
    "    # Dataframe / Profiling example    \n",
    "    st.write(df)\n",
    "    st.header('Data Profile:')\n",
    "    st_profile_report(pr)"
   ]
  },
  {
   "cell_type": "code",
   "execution_count": null,
   "metadata": {},
   "outputs": [
    {
     "data": {
      "application/vnd.jupyter.widget-view+json": {
       "model_id": "499a06d376b640c7ae00171f115f0559",
       "version_major": 2,
       "version_minor": 0
      },
      "text/plain": [
       "HBox(children=(FloatProgress(value=0.0, description='Summarize dataset', max=23.0, style=ProgressStyle(descrip…"
      ]
     },
     "metadata": {},
     "output_type": "display_data"
    },
    {
     "name": "stdout",
     "output_type": "stream",
     "text": [
      "\n"
     ]
    },
    {
     "data": {
      "application/vnd.jupyter.widget-view+json": {
       "model_id": "946e361d282641b184023b5b8a113696",
       "version_major": 2,
       "version_minor": 0
      },
      "text/plain": [
       "HBox(children=(FloatProgress(value=0.0, description='Generate report structure', max=1.0, style=ProgressStyle(…"
      ]
     },
     "metadata": {},
     "output_type": "display_data"
    },
    {
     "name": "stdout",
     "output_type": "stream",
     "text": [
      "\n"
     ]
    },
    {
     "data": {
      "application/vnd.jupyter.widget-view+json": {
       "model_id": "08c93b4629334d05b5d4d4cdfb6b05d4",
       "version_major": 2,
       "version_minor": 0
      },
      "text/plain": [
       "HBox(children=(FloatProgress(value=0.0, description='Render HTML', max=1.0, style=ProgressStyle(description_wi…"
      ]
     },
     "metadata": {},
     "output_type": "display_data"
    },
    {
     "name": "stdout",
     "output_type": "stream",
     "text": [
      "\n"
     ]
    }
   ],
   "source": [
    "%nbdev_export\n",
    "sb = create_sidebar()\n",
    "\n",
    "try:\n",
    "    df = pd.read_csv(TITANIC_DATA_FILE)\n",
    "    if sb.calc_corr:\n",
    "        pr = ProfileReport(df, explorative=True)\n",
    "    else:\n",
    "        pr = ProfileReport(df, explorative=True, correlations=None)\n",
    "    create_mainscreen(df, pr, APP_NAME)\n",
    "except Exception as e:\n",
    "    st.write(e)\n",
    "    st.write('ERROR: Unable to download data')"
   ]
  },
  {
   "cell_type": "code",
   "execution_count": null,
   "metadata": {},
   "outputs": [],
   "source": [
    "# TODOs:\n",
    "#\n",
    "# def get_or_used_cached_data(datasource):\n",
    "#\n",
    "# try to use config or similar file (check nbdev options) for #DEFINEs or equivalent e.g. APP_NAME, DATA_SOURCE\n",
    "# def create_sidebar()\n",
    "#\n",
    "# def create_mainscreen()\n",
    "#\n",
    "# Design - put all \"analytics\" code into the nbdev framework - decouple GUI from analytics as far as possible\n",
    "#\n",
    "# try to integrate mypy\n",
    "#\n",
    "# add in Great Expectations (again via nbdev)\n",
    "#\n",
    "# Start to use GitHub pull requests for features / functionality"
   ]
  },
  {
   "cell_type": "code",
   "execution_count": null,
   "metadata": {},
   "outputs": [],
   "source": []
  }
 ],
 "metadata": {
  "kernelspec": {
   "display_name": "Python 3",
   "language": "python",
   "name": "python3"
  }
 },
 "nbformat": 4,
 "nbformat_minor": 2
}
